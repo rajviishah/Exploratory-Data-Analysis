{
  "nbformat": 4,
  "nbformat_minor": 0,
  "metadata": {
    "colab": {
      "name": "EDA-NYC-Airbnb.ipynb",
      "provenance": []
    },
    "kernelspec": {
      "name": "python3",
      "display_name": "Python 3"
    }
  },
  "cells": [
    {
      "cell_type": "markdown",
      "metadata": {
        "id": "Gpf34ry47MJZ"
      },
      "source": [
        "Download data: https://www.kaggle.com/dgomonov/new-york-city-airbnb-open-data\n",
        "\n",
        "The goal is: to predict Airbnb rental prices"
      ]
    },
    {
      "cell_type": "code",
      "metadata": {
        "id": "FKxHiyUN5WUh"
      },
      "source": [
        "#!pip install --upgrade dtale #downloading dtale"
      ],
      "execution_count": 109,
      "outputs": []
    },
    {
      "cell_type": "code",
      "metadata": {
        "id": "vqoK-u9N5DNs"
      },
      "source": [
        "import pandas as pd\n",
        "import numpy as np\n",
        "import matplotlib.pyplot as plt\n",
        "import seaborn as sns\n",
        "#import dtale"
      ],
      "execution_count": 110,
      "outputs": []
    },
    {
      "cell_type": "code",
      "metadata": {
        "id": "WN7ej6Hr5wgz"
      },
      "source": [
        "#import dtale.app as dtale_app\n",
        "\n",
        "#dtale_app.USE_COLAB = True\n",
        "#dtale.show(data, ignore_duplicate=True)"
      ],
      "execution_count": 111,
      "outputs": []
    },
    {
      "cell_type": "code",
      "metadata": {
        "id": "JKADwndd56gb",
        "outputId": "ae7b153e-596f-4f67-84de-6bde462d1fe4",
        "colab": {
          "base_uri": "https://localhost:8080/"
        }
      },
      "source": [
        "data = pd.read_csv(r'/content/AB_NYC_2019.csv')\n",
        "print(data.head(10))"
      ],
      "execution_count": 112,
      "outputs": [
        {
          "output_type": "stream",
          "text": [
            "     id  ... availability_365\n",
            "0  2539  ...              365\n",
            "1  2595  ...              355\n",
            "2  3647  ...              365\n",
            "3  3831  ...              194\n",
            "4  5022  ...                0\n",
            "5  5099  ...              129\n",
            "6  5121  ...                0\n",
            "7  5178  ...              220\n",
            "8  5203  ...                0\n",
            "9  5238  ...              188\n",
            "\n",
            "[10 rows x 16 columns]\n"
          ],
          "name": "stdout"
        }
      ]
    },
    {
      "cell_type": "code",
      "metadata": {
        "id": "-zB-yoov6Mcw",
        "outputId": "76fa696f-759a-4019-df29-19af37ed4d4f",
        "colab": {
          "base_uri": "https://localhost:8080/"
        }
      },
      "source": [
        "print(data.columns)"
      ],
      "execution_count": 113,
      "outputs": [
        {
          "output_type": "stream",
          "text": [
            "Index(['id', 'name', 'host_id', 'host_name', 'neighbourhood_group',\n",
            "       'neighbourhood', 'latitude', 'longitude', 'room_type', 'price',\n",
            "       'minimum_nights', 'number_of_reviews', 'last_review',\n",
            "       'reviews_per_month', 'calculated_host_listings_count',\n",
            "       'availability_365'],\n",
            "      dtype='object')\n"
          ],
          "name": "stdout"
        }
      ]
    },
    {
      "cell_type": "code",
      "metadata": {
        "id": "Jb0S5xF86Qzj",
        "outputId": "c468ffcf-a402-42a4-fedf-2d1f8e90d657",
        "colab": {
          "base_uri": "https://localhost:8080/"
        }
      },
      "source": [
        "print(data.shape)"
      ],
      "execution_count": 114,
      "outputs": [
        {
          "output_type": "stream",
          "text": [
            "(48895, 16)\n"
          ],
          "name": "stdout"
        }
      ]
    },
    {
      "cell_type": "markdown",
      "metadata": {
        "id": "jufGZgB_-Q_I"
      },
      "source": [
        "Observation:\n",
        "\n",
        "There are 16 columns and 49K data-points."
      ]
    },
    {
      "cell_type": "code",
      "metadata": {
        "id": "vpC1xpbj6iH3",
        "outputId": "97b3511a-e350-418e-e3d3-b44516642632",
        "colab": {
          "base_uri": "https://localhost:8080/"
        }
      },
      "source": [
        "data.dtypes"
      ],
      "execution_count": 115,
      "outputs": [
        {
          "output_type": "execute_result",
          "data": {
            "text/plain": [
              "id                                  int64\n",
              "name                               object\n",
              "host_id                             int64\n",
              "host_name                          object\n",
              "neighbourhood_group                object\n",
              "neighbourhood                      object\n",
              "latitude                          float64\n",
              "longitude                         float64\n",
              "room_type                          object\n",
              "price                               int64\n",
              "minimum_nights                      int64\n",
              "number_of_reviews                   int64\n",
              "last_review                        object\n",
              "reviews_per_month                 float64\n",
              "calculated_host_listings_count      int64\n",
              "availability_365                    int64\n",
              "dtype: object"
            ]
          },
          "metadata": {
            "tags": []
          },
          "execution_count": 115
        }
      ]
    },
    {
      "cell_type": "markdown",
      "metadata": {
        "id": "WwdeNd0cASGf"
      },
      "source": [
        "Observation:\n",
        "\n",
        "Some columns contains text so maybe there would be need to use BoW, tfidf, w2vec, etc."
      ]
    },
    {
      "cell_type": "code",
      "metadata": {
        "id": "N8c5O9MV88Uh",
        "outputId": "d56cad08-1bbe-4d4c-aadc-ce2deb6ff1bd",
        "colab": {
          "base_uri": "https://localhost:8080/"
        }
      },
      "source": [
        "data.isnull().sum()"
      ],
      "execution_count": 116,
      "outputs": [
        {
          "output_type": "execute_result",
          "data": {
            "text/plain": [
              "id                                    0\n",
              "name                                 16\n",
              "host_id                               0\n",
              "host_name                            21\n",
              "neighbourhood_group                   0\n",
              "neighbourhood                         0\n",
              "latitude                              0\n",
              "longitude                             0\n",
              "room_type                             0\n",
              "price                                 0\n",
              "minimum_nights                        0\n",
              "number_of_reviews                     0\n",
              "last_review                       10052\n",
              "reviews_per_month                 10052\n",
              "calculated_host_listings_count        0\n",
              "availability_365                      0\n",
              "dtype: int64"
            ]
          },
          "metadata": {
            "tags": []
          },
          "execution_count": 116
        }
      ]
    },
    {
      "cell_type": "markdown",
      "metadata": {
        "id": "Oy5XMoQQ-b3E"
      },
      "source": [
        "Observation:\n",
        "\n",
        "There are 4 columns that have null values, have to replace them as it might affect later while considering remaining values of the same column."
      ]
    },
    {
      "cell_type": "code",
      "metadata": {
        "id": "ZyGhQ2v79Iwm"
      },
      "source": [
        "data.fillna({'reviews_per_month':0}, inplace=True) #filling null values of 4 columns with respective values\n",
        "data.fillna({'name':\"NoName\"}, inplace=True)\n",
        "data.fillna({'host_name':\"NoName\"}, inplace=True)\n",
        "data.fillna({'last_review':\"NotReviewed\"}, inplace=True)"
      ],
      "execution_count": 117,
      "outputs": []
    },
    {
      "cell_type": "code",
      "metadata": {
        "id": "Js-7MT8p9nNj",
        "outputId": "b0d4dae0-41d8-4f4a-bc5a-6f3ccd55ca1a",
        "colab": {
          "base_uri": "https://localhost:8080/"
        }
      },
      "source": [
        "data.isnull().sum()"
      ],
      "execution_count": 118,
      "outputs": [
        {
          "output_type": "execute_result",
          "data": {
            "text/plain": [
              "id                                0\n",
              "name                              0\n",
              "host_id                           0\n",
              "host_name                         0\n",
              "neighbourhood_group               0\n",
              "neighbourhood                     0\n",
              "latitude                          0\n",
              "longitude                         0\n",
              "room_type                         0\n",
              "price                             0\n",
              "minimum_nights                    0\n",
              "number_of_reviews                 0\n",
              "last_review                       0\n",
              "reviews_per_month                 0\n",
              "calculated_host_listings_count    0\n",
              "availability_365                  0\n",
              "dtype: int64"
            ]
          },
          "metadata": {
            "tags": []
          },
          "execution_count": 118
        }
      ]
    },
    {
      "cell_type": "code",
      "metadata": {
        "id": "XdppYslC9pEg",
        "outputId": "88248744-8219-4439-e743-663e5205aaba",
        "colab": {
          "base_uri": "https://localhost:8080/"
        }
      },
      "source": [
        "data['price'].head(10)"
      ],
      "execution_count": 119,
      "outputs": [
        {
          "output_type": "execute_result",
          "data": {
            "text/plain": [
              "0    149\n",
              "1    225\n",
              "2    150\n",
              "3     89\n",
              "4     80\n",
              "5    200\n",
              "6     60\n",
              "7     79\n",
              "8     79\n",
              "9    150\n",
              "Name: price, dtype: int64"
            ]
          },
          "metadata": {
            "tags": []
          },
          "execution_count": 119
        }
      ]
    },
    {
      "cell_type": "code",
      "metadata": {
        "id": "JumBCEV-_AGu",
        "outputId": "40e7eaa7-774a-4372-c559-28c391507720",
        "colab": {
          "base_uri": "https://localhost:8080/"
        }
      },
      "source": [
        "data['price'].describe()"
      ],
      "execution_count": 120,
      "outputs": [
        {
          "output_type": "execute_result",
          "data": {
            "text/plain": [
              "count    48895.000000\n",
              "mean       152.720687\n",
              "std        240.154170\n",
              "min          0.000000\n",
              "25%         69.000000\n",
              "50%        106.000000\n",
              "75%        175.000000\n",
              "max      10000.000000\n",
              "Name: price, dtype: float64"
            ]
          },
          "metadata": {
            "tags": []
          },
          "execution_count": 120
        }
      ]
    },
    {
      "cell_type": "markdown",
      "metadata": {
        "id": "Gc3cy-7v_WxJ"
      },
      "source": [
        "Observation:\n",
        "\n",
        "It's a Regression problem. "
      ]
    },
    {
      "cell_type": "code",
      "metadata": {
        "id": "DwuGMgnc_Eg-",
        "outputId": "75e856af-a002-4eac-dc85-b9a532d29841",
        "colab": {
          "base_uri": "https://localhost:8080/",
          "height": 265
        }
      },
      "source": [
        "hist_price = data[\"price\"].hist()"
      ],
      "execution_count": 121,
      "outputs": [
        {
          "output_type": "display_data",
          "data": {
            "image/png": "[encoded data removed]",
            "text/plain": [
              "<Figure size 432x288 with 1 Axes>"
            ]
          },
          "metadata": {
            "tags": [],
            "needs_background": "light"
          }
        }
      ]
    },
    {
      "cell_type": "markdown",
      "metadata": {
        "id": "SgSfWQdCBqUN"
      },
      "source": [
        "Observation:\n",
        "\n",
        "Most of prices are less than 1000."
      ]
    },
    {
      "cell_type": "code",
      "metadata": {
        "id": "NMRAfzbCBnUv",
        "outputId": "2f8ccf6d-418d-474b-8aa8-03b27bd74156",
        "colab": {
          "base_uri": "https://localhost:8080/",
          "height": 265
        }
      },
      "source": [
        "hist_price = data[\"price\"][data['price'] <= 1000].hist()"
      ],
      "execution_count": 122,
      "outputs": [
        {
          "output_type": "display_data",
          "data": {
            "image/png": "[encoded data removed]",
            "text/plain": [
              "<Figure size 432x288 with 1 Axes>"
            ]
          },
          "metadata": {
            "tags": [],
            "needs_background": "light"
          }
        }
      ]
    },
    {
      "cell_type": "code",
      "metadata": {
        "id": "39HsvqIMB4Yv",
        "outputId": "b40c88cc-3ad9-41e8-e2bb-a09d65289f4f",
        "colab": {
          "base_uri": "https://localhost:8080/",
          "height": 265
        }
      },
      "source": [
        "hist_price = data[\"price\"][data['price'] > 1000].hist()"
      ],
      "execution_count": 123,
      "outputs": [
        {
          "output_type": "display_data",
          "data": {
            "image/png": "[encoded data removed]",
            "text/plain": [
              "<Figure size 432x288 with 1 Axes>"
            ]
          },
          "metadata": {
            "tags": [],
            "needs_background": "light"
          }
        }
      ]
    },
    {
      "cell_type": "code",
      "metadata": {
        "id": "WECvC8X0B9Lz",
        "outputId": "27b10c90-379c-4560-c897-294aa1925f21",
        "colab": {
          "base_uri": "https://localhost:8080/"
        }
      },
      "source": [
        "price_greater_than_2000 = data[data['price'] > 1000].value_counts()\n",
        "print(price_greater_than_2000)"
      ],
      "execution_count": 124,
      "outputs": [
        {
          "output_type": "stream",
          "text": [
            "id        name                                                host_id    host_name     neighbourhood_group  neighbourhood       latitude  longitude  room_type        price  minimum_nights  number_of_reviews  last_review  reviews_per_month  calculated_host_listings_count  availability_365\n",
            "36311055  Stunning & Stylish Brooklyn Luxury, near Train      245712163  Urvashi       Brooklyn             Bedford-Stuyvesant  40.68245  -73.93417  Entire home/apt  1749   1               0                  NotReviewed  0.00               1                               303                 1\n",
            "10901255  6 BEDROOM W VILLAGE TOWNHOUSE, NYC                  605463     West Village  Manhattan            West Village        40.73303  -74.00500  Entire home/apt  1100   6               4                  2019-05-24   0.12               4                               313                 1\n",
            "13882394  VIP Duplex Townhouse with Private Garden!!!         49186997   Joseph        Manhattan            Greenwich Village   40.73305  -73.99373  Entire home/apt  3800   30              2                  2017-01-27   0.06               1                               180                 1\n",
            "13443640  Deluxe 3-BR + 3.5Bath with sweeping city views!!    30283594   Kara          Manhattan            Midtown             40.75143  -73.96973  Entire home/apt  1100   120             0                  NotReviewed  0.00               121                             184                 1\n",
            "13250484  Beautiful 2000 sq. ft. loft in Hells Kitchen NYC    10196579   James         Manhattan            Hell's Kitchen      40.75647  -73.99848  Entire home/apt  2000   1               4                  2017-01-06   0.11               1                               362                 1\n",
            "                                                                                                                                                                                                                                                                                                   ..\n",
            "25511717  Gorgeous summer spot in boerum hill, brooklyn!      75110137   Christina     Brooklyn             Gowanus             40.68494  -73.98850  Private room     1333   50              0                  NotReviewed  0.00               1                               365                 1\n",
            "25018204  Paradise Garden, Spa, Steam & Massage Table #10299  172611460  Rasmus        Manhattan            Harlem              40.82263  -73.95181  Entire home/apt  2500   3               14                 2019-06-24   1.38               2                               150                 1\n",
            "24983084  Triple Mint Townhouse in the heart of West Village  5719667    Alexander     Manhattan            West Village        40.73722  -74.00263  Entire home/apt  1500   3               15                 2019-06-24   1.21               1                               54                  1\n",
            "24941609  NY’s Highest End Celebrity Building + Balconies!    65562107   Gina          Manhattan            Tribeca             40.71868  -74.00765  Entire home/apt  1200   5               13                 2019-06-15   0.98               1                               347                 1\n",
            "174966    Luxury 2Bed/2.5Bath Central Park View               836168     Henry         Manhattan            Upper West Side     40.77350  -73.98697  Entire home/apt  2000   30              30                 2018-05-05   0.33               11                              0                   1\n",
            "Length: 239, dtype: int64\n"
          ],
          "name": "stdout"
        }
      ]
    },
    {
      "cell_type": "markdown",
      "metadata": {
        "id": "ticoO8gBDfkW"
      },
      "source": [
        "Observation:\n",
        "\n",
        "- In all, there are 239 data-points with rental price > 1000.\n",
        "- These are either super lavish listings or there can an error during input. Nonetheless, since this records are skewing our data, we can treat them as outliers and drop them."
      ]
    },
    {
      "cell_type": "code",
      "metadata": {
        "id": "o0sLW8dJCLwV",
        "outputId": "b265ae65-bfd7-4aad-9ef1-c7678e859297",
        "colab": {
          "base_uri": "https://localhost:8080/",
          "height": 282
        }
      },
      "source": [
        "data[\"price\"][data[\"price\"]<250].hist()"
      ],
      "execution_count": 125,
      "outputs": [
        {
          "output_type": "execute_result",
          "data": {
            "text/plain": [
              "<matplotlib.axes._subplots.AxesSubplot at 0x7fa6b6d59128>"
            ]
          },
          "metadata": {
            "tags": []
          },
          "execution_count": 125
        },
        {
          "output_type": "display_data",
          "data": {
            "image/png": "[encoded data removed]",
            "text/plain": [
              "<Figure size 432x288 with 1 Axes>"
            ]
          },
          "metadata": {
            "tags": [],
            "needs_background": "light"
          }
        }
      ]
    },
    {
      "cell_type": "code",
      "metadata": {
        "id": "Srr1yPFsNyWD",
        "outputId": "468fb830-099f-4979-fcd8-afbe39c235de",
        "colab": {
          "base_uri": "https://localhost:8080/"
        }
      },
      "source": [
        "data[\"price\"][data[\"price\"]<250].describe()"
      ],
      "execution_count": 126,
      "outputs": [
        {
          "output_type": "execute_result",
          "data": {
            "text/plain": [
              "count    42669.000000\n",
              "mean       107.897748\n",
              "std         53.803457\n",
              "min          0.000000\n",
              "25%         65.000000\n",
              "50%         99.000000\n",
              "75%        150.000000\n",
              "max        249.000000\n",
              "Name: price, dtype: float64"
            ]
          },
          "metadata": {
            "tags": []
          },
          "execution_count": 126
        }
      ]
    },
    {
      "cell_type": "markdown",
      "metadata": {
        "id": "0A-K9wVQOHA7"
      },
      "source": [
        "Observation:\n",
        "\n",
        "This is kind of Guassian distribution for rental values < 250."
      ]
    },
    {
      "cell_type": "code",
      "metadata": {
        "id": "y4d7JogzN4wZ",
        "outputId": "c3a92f59-2717-4b6e-f7cf-b066184ca0dd",
        "colab": {
          "base_uri": "https://localhost:8080/"
        }
      },
      "source": [
        "data['neighbourhood'].value_counts()"
      ],
      "execution_count": 127,
      "outputs": [
        {
          "output_type": "execute_result",
          "data": {
            "text/plain": [
              "Williamsburg          3920\n",
              "Bedford-Stuyvesant    3714\n",
              "Harlem                2658\n",
              "Bushwick              2465\n",
              "Upper West Side       1971\n",
              "                      ... \n",
              "New Dorp                 1\n",
              "Fort Wadsworth           1\n",
              "Willowbrook              1\n",
              "Richmondtown             1\n",
              "Rossville                1\n",
              "Name: neighbourhood, Length: 221, dtype: int64"
            ]
          },
          "metadata": {
            "tags": []
          },
          "execution_count": 127
        }
      ]
    },
    {
      "cell_type": "code",
      "metadata": {
        "id": "hh_XpXK2OeGj",
        "outputId": "1e451130-9aff-4530-9c61-60cea30307bf",
        "colab": {
          "base_uri": "https://localhost:8080/"
        }
      },
      "source": [
        "neigh =data.groupby(\"neighbourhood\").filter(lambda x: x['neighbourhood'].count() > 200)\n",
        "print(len(neigh['neighbourhood']))"
      ],
      "execution_count": 128,
      "outputs": [
        {
          "output_type": "stream",
          "text": [
            "42276\n"
          ],
          "name": "stdout"
        }
      ]
    },
    {
      "cell_type": "markdown",
      "metadata": {
        "id": "hKZdBlEoQZtE"
      },
      "source": [
        "Observation:\n",
        "\n",
        "Almost 90% of the data is covered."
      ]
    },
    {
      "cell_type": "code",
      "metadata": {
        "id": "djpQj0kXPv4-",
        "outputId": "b869c60a-d17d-4b41-cddb-9ae1b1c8269f",
        "colab": {
          "base_uri": "https://localhost:8080/"
        }
      },
      "source": [
        "neigh1 = data.groupby(\"neighbourhood\").filter(lambda x: x['neighbourhood'].count() == 1)\n",
        "print(len(neigh1[\"neighbourhood\"]))"
      ],
      "execution_count": 129,
      "outputs": [
        {
          "output_type": "stream",
          "text": [
            "6\n"
          ],
          "name": "stdout"
        }
      ]
    },
    {
      "cell_type": "code",
      "metadata": {
        "id": "wHzgFr7rQRl5",
        "outputId": "f56aa6be-9c8e-4565-bab5-a7ce22928525",
        "colab": {
          "base_uri": "https://localhost:8080/"
        }
      },
      "source": [
        "data['neighbourhood_group'].value_counts()"
      ],
      "execution_count": 130,
      "outputs": [
        {
          "output_type": "execute_result",
          "data": {
            "text/plain": [
              "Manhattan        21661\n",
              "Brooklyn         20104\n",
              "Queens            5666\n",
              "Bronx             1091\n",
              "Staten Island      373\n",
              "Name: neighbourhood_group, dtype: int64"
            ]
          },
          "metadata": {
            "tags": []
          },
          "execution_count": 130
        }
      ]
    },
    {
      "cell_type": "markdown",
      "metadata": {
        "id": "nJMofomeRAyr"
      },
      "source": [
        "Observation:\n",
        "\n",
        "There are 5 groups & 85% is covered by Manhattan & Brooklyn. "
      ]
    },
    {
      "cell_type": "code",
      "metadata": {
        "id": "AKGy6TQHQWnC",
        "outputId": "9aa72bfd-7602-4082-b454-9c61e895002c",
        "colab": {
          "base_uri": "https://localhost:8080/"
        }
      },
      "source": [
        "ng_price = data.groupby(\"neighbourhood_group\")[\"price\"].mean()\n",
        "print(ng_price)\n",
        "data1 = data"
      ],
      "execution_count": 131,
      "outputs": [
        {
          "output_type": "stream",
          "text": [
            "neighbourhood_group\n",
            "Bronx             87.496792\n",
            "Brooklyn         124.383207\n",
            "Manhattan        196.875814\n",
            "Queens            99.517649\n",
            "Staten Island    114.812332\n",
            "Name: price, dtype: float64\n"
          ],
          "name": "stdout"
        }
      ]
    },
    {
      "cell_type": "code",
      "metadata": {
        "id": "6eMppMThRR-i",
        "cellView": "code",
        "outputId": "1ce4ef7e-da18-481f-9a17-45a8a473f433",
        "colab": {
          "base_uri": "https://localhost:8080/",
          "height": 479
        }
      },
      "source": [
        "\n",
        "#sns.catplot(x = \"neighbourhood_group\", y = \"price\", hue = \"room_type\", kind = \"swarm\", data = data1)\n",
        "#https://www.machinelearningplus.com/plots/top-50-matplotlib-visualizations-the-master-plots-python/#21.-Histogram-for-Categorical-Variable\n",
        "\n",
        "\n",
        "x_var = 'neighbourhood_group'\n",
        "groupby_var = 'room_type'\n",
        "\n",
        "df_agg = data.loc[:, [x_var, groupby_var]].groupby(groupby_var)\n",
        "#vals = [df[x_var].values.tolist() for i, df in df_agg]\n",
        "vals = [data['price'].values.tolist() for i in df_agg]\n",
        "\n",
        "plt.figure(figsize=(16,9), dpi= 80)\n",
        "colors = [plt.cm.Spectral(i / float(len(vals) - 1 )) for i in range(len(vals))]\n",
        "n, bins, patches = plt.hist(vals, data[x_var].unique().__len__(), stacked = True, density = False, color = colors[:len(vals)])\n",
        "\n",
        "plt.legend({group:col for group, col in zip(np.unique(data[groupby_var]).tolist(), colors[:len(vals)])})\n",
        "#plt.title(f\"Stacked Histogram of ${x_var}$ colored by ${groupby_var}$\", fontsize=22)\n",
        "plt.xlabel(x_var)\n",
        "plt.ylabel(\"Price\")\n",
        "plt.ylim(0, 40)\n",
        "plt.xticks(ticks = bins, labels = np.unique(data[x_var]).tolist(), rotation = 90, horizontalalignment = 'left')\n",
        "plt.show()"
      ],
      "execution_count": 139,
      "outputs": [
        {
          "output_type": "display_data",
          "data": {
            "image/png": "[encoded data removed]",
            "text/plain": [
              "<Figure size 1280x720 with 1 Axes>"
            ]
          },
          "metadata": {
            "tags": [],
            "needs_background": "light"
          }
        }
      ]
    },
    {
      "cell_type": "markdown",
      "metadata": {
        "id": "R2Qr5sZ9jtqn"
      },
      "source": [
        "Here we can note that Brooklyn and Manhattan tend to have more listings with price > 150. Also, most listings above price > 100 are entire home type followed by private room and shared room which is the cheapest."
      ]
    },
    {
      "cell_type": "code",
      "metadata": {
        "id": "N2JadQAgjQft"
      },
      "source": [
        "data = data.drop(columns = [\"id\",\"host_name\"])"
      ],
      "execution_count": null,
      "outputs": []
    },
    {
      "cell_type": "markdown",
      "metadata": {
        "id": "OOPN936tkzMY"
      },
      "source": [
        "id and host_name or host_id are not useful for prediction of rental_price, so dropping them."
      ]
    },
    {
      "cell_type": "code",
      "metadata": {
        "id": "AeNoac2wlJI7"
      },
      "source": [
        "data[\"name_length\"] = data['name'].map(str).apply(len)"
      ],
      "execution_count": null,
      "outputs": []
    },
    {
      "cell_type": "code",
      "metadata": {
        "id": "DIEe79aFlcpO"
      },
      "source": [
        "# Max and Min name length\n",
        "print(data[\"name_length\"].max())\n",
        "print(data[\"name_length\"].min())\n",
        "print(data[\"name_length\"].idxmax())\n",
        "print(data[\"name_length\"].idxmin())"
      ],
      "execution_count": null,
      "outputs": []
    },
    {
      "cell_type": "code",
      "metadata": {
        "id": "MFU0acLblqMT"
      },
      "source": [
        "data.at[25832, 'name']"
      ],
      "execution_count": null,
      "outputs": []
    },
    {
      "cell_type": "code",
      "metadata": {
        "id": "1X3eYX5wptNt"
      },
      "source": [
        "data.at[4033, 'name']"
      ],
      "execution_count": null,
      "outputs": []
    },
    {
      "cell_type": "code",
      "metadata": {
        "id": "Z0PocRmxy5zN"
      },
      "source": [
        "data.plot.scatter(x = \"name_length\", y = \"number_of_reviews\" )"
      ],
      "execution_count": null,
      "outputs": []
    },
    {
      "cell_type": "code",
      "metadata": {
        "id": "DqXSY7ZkzzR9"
      },
      "source": [
        "data[\"number_of_reviews\"].corr(data[\"name_length\"])"
      ],
      "execution_count": null,
      "outputs": []
    },
    {
      "cell_type": "markdown",
      "metadata": {
        "id": "bEH-2SptzDIr"
      },
      "source": [
        "Here, review can be either positive or negative. Also, there is hardly any relationship here."
      ]
    },
    {
      "cell_type": "code",
      "metadata": {
        "id": "tG7x10iLy_qL"
      },
      "source": [
        "data[data[\"name_length\"] < 50].plot.scatter(x = \"price\", y = \"name_length\")"
      ],
      "execution_count": null,
      "outputs": []
    },
    {
      "cell_type": "code",
      "metadata": {
        "id": "Pr7QPwzlzaNo"
      },
      "source": [
        "data[\"name_length\"].corr(data[\"price\"])"
      ],
      "execution_count": null,
      "outputs": []
    },
    {
      "cell_type": "code",
      "metadata": {
        "id": "hf3SpAM2zwjd"
      },
      "source": [
        "data.name_length.hist()"
      ],
      "execution_count": null,
      "outputs": []
    },
    {
      "cell_type": "code",
      "metadata": {
        "id": "BmI27S2Q0Bfj"
      },
      "source": [
        "data['room_type'].value_counts()"
      ],
      "execution_count": null,
      "outputs": []
    },
    {
      "cell_type": "markdown",
      "metadata": {
        "id": "TiUD2GSP0Nns"
      },
      "source": [
        "Mostly, room type is either entire home or private room."
      ]
    },
    {
      "cell_type": "code",
      "metadata": {
        "id": "JM7QiWoX0Mls"
      },
      "source": [
        "rt_price = data.groupby(\"room_type\")[\"price\"].mean()\n",
        "print(rt_price)"
      ],
      "execution_count": null,
      "outputs": []
    },
    {
      "cell_type": "code",
      "metadata": {
        "id": "hbBJw-Kb0fgE"
      },
      "source": [
        "data[\"minimum_nights\"].describe()"
      ],
      "execution_count": null,
      "outputs": []
    },
    {
      "cell_type": "markdown",
      "metadata": {
        "id": "A_KFiyi30xIQ"
      },
      "source": [
        "It's quite weird, range is between 1 night to 1250 nights."
      ]
    },
    {
      "cell_type": "code",
      "metadata": {
        "id": "ufytW2-E0qlB"
      },
      "source": [
        "data[\"minimum_nights\"].hist()"
      ],
      "execution_count": null,
      "outputs": []
    },
    {
      "cell_type": "markdown",
      "metadata": {
        "id": "Lx9T70Np1hIU"
      },
      "source": [
        "Most of the number of nights are under 100."
      ]
    },
    {
      "cell_type": "code",
      "metadata": {
        "id": "h_2JjXkz1f8I"
      },
      "source": [
        "data[\"minimum_nights\"][data[\"minimum_nights\"] < 10].hist()"
      ],
      "execution_count": null,
      "outputs": []
    },
    {
      "cell_type": "code",
      "metadata": {
        "id": "bYYfvvBN2JZ5"
      },
      "source": [
        "data['price'].corr(data['minimum_nights'])"
      ],
      "execution_count": null,
      "outputs": []
    },
    {
      "cell_type": "code",
      "metadata": {
        "id": "QjDJ53Y42d1k"
      },
      "source": [
        "data[\"minimum_nights\"][data[\"minimum_nights\"] > 30]"
      ],
      "execution_count": null,
      "outputs": []
    },
    {
      "cell_type": "markdown",
      "metadata": {
        "id": "poAVYYGY2_T3"
      },
      "source": [
        "Only 747 datapoints have number of minmumn_nights > 30, so replacing all of those with 30."
      ]
    },
    {
      "cell_type": "code",
      "metadata": {
        "id": "L5TQEgvq2zyJ"
      },
      "source": [
        "data.loc[(data.minimum_nights > 30), \"minimum_nights\"] = 30"
      ],
      "execution_count": null,
      "outputs": []
    },
    {
      "cell_type": "code",
      "metadata": {
        "id": "4hWePgm54EWf"
      },
      "source": [
        "data['price'].corr(data['minimum_nights'])"
      ],
      "execution_count": null,
      "outputs": []
    },
    {
      "cell_type": "code",
      "metadata": {
        "id": "xwlPIDrz4YLj"
      },
      "source": [
        "data[\"availability_365\"].describe()"
      ],
      "execution_count": null,
      "outputs": []
    },
    {
      "cell_type": "code",
      "metadata": {
        "id": "MLufdLzq4yqs"
      },
      "source": [
        "data[\"availability_365\"].hist()"
      ],
      "execution_count": null,
      "outputs": []
    },
    {
      "cell_type": "markdown",
      "metadata": {
        "id": "nZyhzw1q4_Eb"
      },
      "source": [
        "After analysis, deciding to drop these columns as they will not be useful in prediction\n"
      ]
    },
    {
      "cell_type": "code",
      "metadata": {
        "id": "cE4x9mQP41jC"
      },
      "source": [
        "data.drop([\"name\", 'last_review', \"latitude\", 'longitude', 'host_id'], axis = 1, inplace = True)"
      ],
      "execution_count": null,
      "outputs": []
    },
    {
      "cell_type": "code",
      "metadata": {
        "id": "nL3vJxhx5Fkw"
      },
      "source": [
        "corr = data.corr(method = 'pearson')\n",
        "plt.figure(figsize = (15,8))\n",
        "sns.heatmap(corr, annot = True)\n",
        "data.columns"
      ],
      "execution_count": null,
      "outputs": []
    },
    {
      "cell_type": "code",
      "metadata": {
        "id": "Ij3u9Oj06D6C"
      },
      "source": [
        ""
      ],
      "execution_count": null,
      "outputs": []
    }
  ]
}